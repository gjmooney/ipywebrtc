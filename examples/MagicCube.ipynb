{
 "cells": [
  {
   "cell_type": "code",
   "execution_count": 1,
   "id": "e4530313-3a49-45c0-a2fc-f2c5f527d3da",
   "metadata": {},
   "outputs": [],
   "source": [
    "from ipywebrtc import MagicCube"
   ]
  },
  {
   "cell_type": "code",
   "execution_count": 2,
   "id": "ec5a3bb2-c748-4ffb-8a9f-913f79ffe6a1",
   "metadata": {},
   "outputs": [],
   "source": [
    "mc = MagicCube()"
   ]
  },
  {
   "cell_type": "code",
   "execution_count": 3,
   "id": "0fecaa2a-bec1-4584-846d-1914e7c2f885",
   "metadata": {},
   "outputs": [
    {
     "data": {
      "application/vnd.jupyter.widget-view+json": {
       "model_id": "6803da3311534414ad87027189830951",
       "version_major": 2,
       "version_minor": 0
      },
      "text/plain": [
       "MagicCube()"
      ]
     },
     "execution_count": 3,
     "metadata": {},
     "output_type": "execute_result"
    }
   ],
   "source": [
    "mc"
   ]
  },
  {
   "cell_type": "code",
   "execution_count": null,
   "id": "f933610b-47be-40a2-90ef-470584167c1f",
   "metadata": {},
   "outputs": [],
   "source": []
  }
 ],
 "metadata": {
  "kernelspec": {
   "display_name": "Python 3 (ipykernel)",
   "language": "python",
   "name": "python3"
  },
  "language_info": {
   "codemirror_mode": {
    "name": "ipython",
    "version": 3
   },
   "file_extension": ".py",
   "mimetype": "text/x-python",
   "name": "python",
   "nbconvert_exporter": "python",
   "pygments_lexer": "ipython3",
   "version": "3.11.7"
  }
 },
 "nbformat": 4,
 "nbformat_minor": 5
}
