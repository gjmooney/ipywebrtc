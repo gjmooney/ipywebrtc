{
 "cells": [
  {
   "cell_type": "code",
   "execution_count": 4,
   "id": "e4530313-3a49-45c0-a2fc-f2c5f527d3da",
   "metadata": {},
   "outputs": [],
   "source": [
    "from ipywebrtc import MagicCube\n",
    "from ipywidgets import FloatSlider, IntSlider, VBox"
   ]
  },
  {
   "cell_type": "code",
   "execution_count": 5,
   "id": "ec5a3bb2-c748-4ffb-8a9f-913f79ffe6a1",
   "metadata": {},
   "outputs": [],
   "source": [
    "mc = MagicCube(model_url = \"https://cdn.glitch.com/06bd98b4-97ee-4c07-a546-fe39ca205034%2Fbowser.glb\")"
   ]
  },
  {
   "cell_type": "code",
   "execution_count": 6,
   "id": "0fecaa2a-bec1-4584-846d-1914e7c2f885",
   "metadata": {},
   "outputs": [
    {
     "data": {
      "application/vnd.jupyter.widget-view+json": {
       "model_id": "a5a204df1c3c42f682edee52cd6cf9a0",
       "version_major": 2,
       "version_minor": 0
      },
      "text/plain": [
       "MagicCube(model_url='https://cdn.glitch.com/06bd98b4-97ee-4c07-a546-fe39ca205034%2Fbowser.glb', position=[0, -…"
      ]
     },
     "execution_count": 6,
     "metadata": {},
     "output_type": "execute_result"
    }
   ],
   "source": [
    "mc"
   ]
  },
  {
   "cell_type": "code",
   "execution_count": 7,
   "id": "8df08289-e45c-4d37-ba6f-c0b92de442da",
   "metadata": {},
   "outputs": [],
   "source": [
    "mc.stage_visible = False"
   ]
  },
  {
   "cell_type": "code",
   "execution_count": 5,
   "id": "5e4cadbb-fa05-4ce7-97d3-cef9f0e4b7bf",
   "metadata": {},
   "outputs": [
    {
     "data": {
      "application/vnd.jupyter.widget-view+json": {
       "model_id": "302039ca44254888973de116bbe2b129",
       "version_major": 2,
       "version_minor": 0
      },
      "text/plain": [
       "VBox(children=(FloatSlider(value=0.05, description='Scale:', max=0.3, min=0.05, step=0.01), IntSlider(value=0,…"
      ]
     },
     "execution_count": 5,
     "metadata": {},
     "output_type": "execute_result"
    }
   ],
   "source": [
    "scale_slider = FloatSlider(\n",
    "    value=0.05,\n",
    "    min=0.05,\n",
    "    max=0.3,\n",
    "    step=0.01,\n",
    "    description='Scale:',\n",
    "    continuous_update=True,\n",
    ")\n",
    "y_slider = IntSlider(\n",
    "    value=0,\n",
    "    min=-5,\n",
    "    max=5,\n",
    "    step=1,\n",
    "    description='Y position:',\n",
    "    \n",
    ")\n",
    "\n",
    "def handle_scale_slider_change(change):\n",
    "    mc.scale = [change.new, change.new, change.new]\n",
    "def handle_y_slider_change(change):\n",
    "    mc.position = [0, change.new, 0]\n",
    "\n",
    "scale_slider.observe(handle_scale_slider_change, names='value')\n",
    "y_slider.observe(handle_y_slider_change, names='value')\n",
    "\n",
    "VBox([scale_slider, y_slider])"
   ]
  },
  {
   "cell_type": "code",
   "execution_count": 5,
   "id": "9b13c5dd-68d9-44d3-b678-0ab5c668f6cf",
   "metadata": {},
   "outputs": [],
   "source": [
    "mc.scale=[0.3, 0.3, 0.3]"
   ]
  },
  {
   "cell_type": "code",
   "execution_count": 6,
   "id": "7e45f95b-3571-41a6-8d84-20a0e363ceba",
   "metadata": {},
   "outputs": [],
   "source": [
    "mc.position = [0, -3, 0]"
   ]
  },
  {
   "cell_type": "code",
   "execution_count": null,
   "id": "3e32e248-554d-4d3b-b341-75467c626e09",
   "metadata": {},
   "outputs": [],
   "source": []
  }
 ],
 "metadata": {
  "kernelspec": {
   "display_name": "Python 3 (ipykernel)",
   "language": "python",
   "name": "python3"
  },
  "language_info": {
   "codemirror_mode": {
    "name": "ipython",
    "version": 3
   },
   "file_extension": ".py",
   "mimetype": "text/x-python",
   "name": "python",
   "nbconvert_exporter": "python",
   "pygments_lexer": "ipython3",
   "version": "3.11.7"
  }
 },
 "nbformat": 4,
 "nbformat_minor": 5
}
