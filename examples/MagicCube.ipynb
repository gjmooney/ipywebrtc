{
 "cells": [
  {
   "cell_type": "code",
   "execution_count": 30,
   "id": "e4530313-3a49-45c0-a2fc-f2c5f527d3da",
   "metadata": {},
   "outputs": [],
   "source": [
    "from ipywebrtc import MagicCube\n",
    "from ipywidgets import FloatSlider, IntSlider, VBox"
   ]
  },
  {
   "cell_type": "code",
   "execution_count": 31,
   "id": "3e075776-7c56-4111-9957-6bf0bb48880e",
   "metadata": {},
   "outputs": [],
   "source": [
    "fox = \"https://github.khronos.org/glTF-Sample-Viewer-Release/assets/models/Models/Fox/glTF/Fox.gltf\"\n",
    "duck = \"https://github.khronos.org/glTF-Sample-Viewer-Release/assets/models/Models/Duck/glTF/Duck.gltf\"\n",
    "helmet = \"https://github.khronos.org/glTF-Sample-Viewer-Release/assets/models/Models/DamagedHelmet/glTF/DamagedHelmet.gltf\"\n",
    "duck_scale = 1.0\n",
    "duck_position = [0, -1, 0]\n",
    "helmet_position=[0, 0, 0]"
   ]
  },
  {
   "cell_type": "code",
   "execution_count": 32,
   "id": "ec5a3bb2-c748-4ffb-8a9f-913f79ffe6a1",
   "metadata": {},
   "outputs": [],
   "source": [
    "mc = MagicCube(model_url = duck)"
   ]
  },
  {
   "cell_type": "code",
   "execution_count": null,
   "id": "0fecaa2a-bec1-4584-846d-1914e7c2f885",
   "metadata": {},
   "outputs": [],
   "source": [
    "mc"
   ]
  },
  {
   "cell_type": "code",
   "execution_count": 44,
   "id": "0dda1b4c-b10e-4df5-ac00-5ad8241e25c4",
   "metadata": {},
   "outputs": [],
   "source": [
    "mc.model_url=helmet\n",
    "mc.position=helmet_position"
   ]
  },
  {
   "cell_type": "code",
   "execution_count": 49,
   "id": "8df08289-e45c-4d37-ba6f-c0b92de442da",
   "metadata": {},
   "outputs": [],
   "source": [
    "mc.stage_visible = False"
   ]
  },
  {
   "cell_type": "code",
   "execution_count": null,
   "id": "5e4cadbb-fa05-4ce7-97d3-cef9f0e4b7bf",
   "metadata": {},
   "outputs": [],
   "source": [
    "scale_slider = FloatSlider(value=1.0, min=0.5, max=3.0, step=0.5, description='Scale:')\n",
    "y_slider = IntSlider(value=0,min=-5, max=5, step=1, description='Y position:')\n",
    "\n",
    "def handle_scale_slider_change(change):\n",
    "    mc.scale = change.new\n",
    "def handle_y_slider_change(change):\n",
    "    mc.position = [0, change.new, 0]\n",
    "\n",
    "scale_slider.observe(handle_scale_slider_change, names='value')\n",
    "y_slider.observe(handle_y_slider_change, names='value')\n",
    "\n",
    "VBox([scale_slider, y_slider])"
   ]
  },
  {
   "cell_type": "code",
   "execution_count": null,
   "id": "448627fb",
   "metadata": {},
   "outputs": [],
   "source": [
    "mc"
   ]
  }
 ],
 "metadata": {
  "kernelspec": {
   "display_name": "Python 3 (ipykernel)",
   "language": "python",
   "name": "python3"
  },
  "language_info": {
   "codemirror_mode": {
    "name": "ipython",
    "version": 3
   },
   "file_extension": ".py",
   "mimetype": "text/x-python",
   "name": "python",
   "nbconvert_exporter": "python",
   "pygments_lexer": "ipython3",
   "version": "3.11.7"
  }
 },
 "nbformat": 4,
 "nbformat_minor": 5
}
