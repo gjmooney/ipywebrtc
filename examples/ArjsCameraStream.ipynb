{
 "cells": [
  {
   "cell_type": "code",
   "execution_count": 1,
   "id": "21d1a3b4-5812-489e-9345-7186ef11f691",
   "metadata": {},
   "outputs": [],
   "source": [
    "from ipywebrtc import ArjsStream, CameraStream"
   ]
  },
  {
   "cell_type": "code",
   "execution_count": 2,
   "id": "2bdd640e-27de-45b8-befb-ab308302af5c",
   "metadata": {},
   "outputs": [
    {
     "data": {
      "application/vnd.jupyter.widget-view+json": {
       "model_id": "7226f255e58c4dfa8e5d51c8dfcad7e3",
       "version_major": 2,
       "version_minor": 0
      },
      "text/plain": [
       "CameraStream(constraints={'facing_mode': 'user', 'audio': False, 'video': {'width': 640, 'height': 480}})"
      ]
     },
     "execution_count": 2,
     "metadata": {},
     "output_type": "execute_result"
    }
   ],
   "source": [
    "camera = CameraStream(constraints=\n",
    "                      {'facing_mode': 'user',\n",
    "                       'audio': False,\n",
    "                       'video': { 'width': 640, 'height': 480 }\n",
    "                       })\n",
    "camera"
   ]
  },
  {
   "cell_type": "code",
   "execution_count": 3,
   "id": "9f04a523-6823-41b2-9e8e-585b28c5f780",
   "metadata": {},
   "outputs": [],
   "source": [
    "arjs = ArjsStream()"
   ]
  },
  {
   "cell_type": "code",
   "execution_count": 4,
   "id": "55376cd7-a7a3-4820-afe2-fd7756d10cfd",
   "metadata": {},
   "outputs": [
    {
     "data": {
      "application/vnd.jupyter.widget-view+json": {
       "model_id": "3b71a56b0aab489fbb0a275644916e41",
       "version_major": 2,
       "version_minor": 0
      },
      "text/plain": [
       "ArjsStream()"
      ]
     },
     "execution_count": 4,
     "metadata": {},
     "output_type": "execute_result"
    }
   ],
   "source": [
    "arjs"
   ]
  },
  {
   "cell_type": "code",
   "execution_count": null,
   "id": "7dc2a263-6b8b-4c03-9097-50f735a5e2af",
   "metadata": {},
   "outputs": [],
   "source": []
  }
 ],
 "metadata": {
  "kernelspec": {
   "display_name": "Python 3 (ipykernel)",
   "language": "python",
   "name": "python3"
  },
  "language_info": {
   "codemirror_mode": {
    "name": "ipython",
    "version": 3
   },
   "file_extension": ".py",
   "mimetype": "text/x-python",
   "name": "python",
   "nbconvert_exporter": "python",
   "pygments_lexer": "ipython3",
   "version": "3.11.7"
  }
 },
 "nbformat": 4,
 "nbformat_minor": 5
}
