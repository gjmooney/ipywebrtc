{
 "cells": [
  {
   "cell_type": "code",
   "execution_count": 10,
   "id": "21d1a3b4-5812-489e-9345-7186ef11f691",
   "metadata": {},
   "outputs": [],
   "source": [
    "from ipywebrtc import ArjsStream"
   ]
  },
  {
   "cell_type": "code",
   "execution_count": 11,
   "id": "9f04a523-6823-41b2-9e8e-585b28c5f780",
   "metadata": {},
   "outputs": [],
   "source": [
    "arjs = ArjsStream()"
   ]
  },
  {
   "cell_type": "code",
   "execution_count": 9,
   "id": "55376cd7-a7a3-4820-afe2-fd7756d10cfd",
   "metadata": {},
   "outputs": [
    {
     "data": {
      "application/vnd.jupyter.widget-view+json": {
       "model_id": "9865d0cda9bc41b0846643d493c1b134",
       "version_major": 2,
       "version_minor": 0
      },
      "text/plain": [
       "ArjsStream()"
      ]
     },
     "execution_count": 9,
     "metadata": {},
     "output_type": "execute_result"
    }
   ],
   "source": [
    "arjs"
   ]
  },
  {
   "cell_type": "code",
   "execution_count": null,
   "id": "7dc2a263-6b8b-4c03-9097-50f735a5e2af",
   "metadata": {},
   "outputs": [],
   "source": []
  }
 ],
 "metadata": {
  "kernelspec": {
   "display_name": "Python 3 (ipykernel)",
   "language": "python",
   "name": "python3"
  },
  "language_info": {
   "codemirror_mode": {
    "name": "ipython",
    "version": 3
   },
   "file_extension": ".py",
   "mimetype": "text/x-python",
   "name": "python",
   "nbconvert_exporter": "python",
   "pygments_lexer": "ipython3",
   "version": "3.11.7"
  }
 },
 "nbformat": 4,
 "nbformat_minor": 5
}
