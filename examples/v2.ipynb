{
 "cells": [
  {
   "cell_type": "code",
   "execution_count": 1,
   "id": "b31040e8-a73c-4d14-be4d-de59a35ae17e",
   "metadata": {},
   "outputs": [],
   "source": [
    "from ipywebrtc import Scene, Camera, AssetManager, Asset, Marker, Entity"
   ]
  },
  {
   "cell_type": "code",
   "execution_count": 2,
   "id": "1f523cd3-2463-4088-ba8d-954a1814ffcb",
   "metadata": {},
   "outputs": [],
   "source": [
    "asset = Asset(id=\"bowser\", src=\"https://cdn.glitch.com/06bd98b4-97ee-4c07-a546-fe39ca205034%2Fbowser.glb\")"
   ]
  },
  {
   "cell_type": "code",
   "execution_count": 3,
   "id": "eb43e4b7-7a95-4823-b1ae-6e707d4565a8",
   "metadata": {},
   "outputs": [],
   "source": [
    "entity = Entity(id=\"bowser-model\",\n",
    "          gltf_model=\"url(https://cdn.glitch.com/06bd98b4-97ee-4c07-a546-fe39ca205034%2Fbowser.glb)\",\n",
    "          position=\"0 0 0\",\n",
    "          scale=\"0.05 0.05 0.05\",\n",
    "          class_name=\"clickable\")"
   ]
  },
  {
   "cell_type": "code",
   "execution_count": 4,
   "id": "917cc821-1966-48bd-8b4c-7163cbc33aa3",
   "metadata": {},
   "outputs": [],
   "source": [
    "marker = Marker(preset=\"hiro\",\n",
    "            raycaster=\"objects: .clickable\",\n",
    "            emitevents=\"true\",\n",
    "            cursor=\"fuse: false; rayOrigin: mouse;\",\n",
    "            id=\"markerA\",\n",
    "            entity = entity)"
   ]
  },
  {
   "cell_type": "code",
   "execution_count": 5,
   "id": "ced86bad-ed1e-4f00-9679-2e142e56fb26",
   "metadata": {},
   "outputs": [],
   "source": [
    "scene = Scene(camera = Camera(), asset_manager = AssetManager(assets = asset), marker = marker)"
   ]
  },
  {
   "cell_type": "code",
   "execution_count": null,
   "id": "81673af5-d740-4fcf-96d4-7ecbf7c32c80",
   "metadata": {},
   "outputs": [],
   "source": []
  },
  {
   "cell_type": "code",
   "execution_count": 6,
   "id": "8ab677c9-ddfa-4d2d-9fc7-4f76b5b5dc3c",
   "metadata": {},
   "outputs": [
    {
     "data": {
      "application/vnd.jupyter.widget-view+json": {
       "model_id": "98ac0e1e8f81408a8d87a085a3d15359",
       "version_major": 2,
       "version_minor": 0
      },
      "text/plain": [
       "Scene(asset_manager=AssetManager(assets=Asset(id='bowser', src='https://cdn.glitch.com/06bd98b4-97ee-4c07-a546…"
      ]
     },
     "execution_count": 6,
     "metadata": {},
     "output_type": "execute_result"
    }
   ],
   "source": [
    "scene"
   ]
  }
 ],
 "metadata": {
  "kernelspec": {
   "display_name": "Python 3 (ipykernel)",
   "language": "python",
   "name": "python3"
  },
  "language_info": {
   "codemirror_mode": {
    "name": "ipython",
    "version": 3
   },
   "file_extension": ".py",
   "mimetype": "text/x-python",
   "name": "python",
   "nbconvert_exporter": "python",
   "pygments_lexer": "ipython3",
   "version": "3.11.7"
  }
 },
 "nbformat": 4,
 "nbformat_minor": 5
}
