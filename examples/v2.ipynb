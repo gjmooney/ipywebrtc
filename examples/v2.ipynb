{
 "cells": [
  {
   "cell_type": "code",
   "execution_count": 1,
   "id": "b31040e8-a73c-4d14-be4d-de59a35ae17e",
   "metadata": {},
   "outputs": [],
   "source": [
    "from ipywebrtc import Scene, Camera, AssetManager, Asset"
   ]
  },
  {
   "cell_type": "code",
   "execution_count": null,
   "id": "1f523cd3-2463-4088-ba8d-954a1814ffcb",
   "metadata": {},
   "outputs": [],
   "source": [
    "asset = Asset(id=\"bowser\", src=\"https://cdn.glitch.com/06bd98b4-97ee-4c07-a546-fe39ca205034%2Fbowser.glb\")"
   ]
  },
  {
   "cell_type": "code",
   "execution_count": 2,
   "id": "ced86bad-ed1e-4f00-9679-2e142e56fb26",
   "metadata": {},
   "outputs": [],
   "source": [
    "scene = Scene(camera = Camera(), asset_manager = AssetManager(assets = asset))"
   ]
  },
  {
   "cell_type": "code",
   "execution_count": 3,
   "id": "8ab677c9-ddfa-4d2d-9fc7-4f76b5b5dc3c",
   "metadata": {},
   "outputs": [
    {
     "data": {
      "application/vnd.jupyter.widget-view+json": {
       "model_id": "6dda6ac633c14c1fb1448f819fcb5a07",
       "version_major": 2,
       "version_minor": 0
      },
      "text/plain": [
       "Scene(asset_manager=AssetManager(assets=[{'id': 'one', 'src': 'two'}, {'id': 'test', 'src': 'testing'}]), came…"
      ]
     },
     "execution_count": 3,
     "metadata": {},
     "output_type": "execute_result"
    }
   ],
   "source": [
    "scene"
   ]
  },
  {
   "cell_type": "code",
   "execution_count": null,
   "id": "14a00cc3-dc20-4230-a7c0-a845addfeb38",
   "metadata": {},
   "outputs": [],
   "source": []
  }
 ],
 "metadata": {
  "kernelspec": {
   "display_name": "Python 3 (ipykernel)",
   "language": "python",
   "name": "python3"
  },
  "language_info": {
   "codemirror_mode": {
    "name": "ipython",
    "version": 3
   },
   "file_extension": ".py",
   "mimetype": "text/x-python",
   "name": "python",
   "nbconvert_exporter": "python",
   "pygments_lexer": "ipython3",
   "version": "3.11.7"
  }
 },
 "nbformat": 4,
 "nbformat_minor": 5
}
