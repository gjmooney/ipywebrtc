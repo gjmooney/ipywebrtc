{
 "cells": [
  {
   "cell_type": "markdown",
   "metadata": {},
   "source": [
    "# ImageRecorder\n",
    "A [ImageRecorder](api.rst#ipywebrtc.webrtc.ImageRecorder) allows you to record a screenshot from any stream object, e.g. from:\n",
    " \n",
    " * [VideoStream](api.rst#ipywebrtc.webrtc.VideoStream)\n",
    " * [WidgetStream](api.rst#ipywebrtc.webrtc.WidgetStream)\n",
    " * [CameraStream](api.rst#ipywebrtc.webrtc.CameraStream)"
   ]
  },
  {
   "cell_type": "code",
   "execution_count": null,
   "metadata": {},
   "outputs": [],
   "source": [
    "import ipywidgets as widgets\n",
    "from ipywebrtc import ImageRecorder, VideoStream"
   ]
  },
  {
   "cell_type": "code",
   "execution_count": null,
   "metadata": {},
   "outputs": [],
   "source": [
    "video = VideoStream.from_url('Big.Buck.Bunny.mp4')\n",
    "video"
   ]
  },
  {
   "cell_type": "markdown",
   "metadata": {},
   "source": [
    "Using the image recorder, you can take screenshot of the stream clicking the camera button"
   ]
  },
  {
   "cell_type": "code",
   "execution_count": null,
   "metadata": {
    "scrolled": true
   },
   "outputs": [],
   "source": [
    "image_recorder = ImageRecorder(stream=video)\n",
    "image_recorder"
   ]
  },
  {
   "cell_type": "code",
   "execution_count": null,
   "metadata": {},
   "outputs": [],
   "source": [
    "image_recorder.image"
   ]
  },
  {
   "cell_type": "markdown",
   "metadata": {},
   "source": [
    "Or do it, programatically:"
   ]
  },
  {
   "cell_type": "code",
   "execution_count": null,
   "metadata": {},
   "outputs": [],
   "source": [
    "image_recorder.recording = True"
   ]
  },
  {
   "cell_type": "code",
   "execution_count": null,
   "metadata": {},
   "outputs": [],
   "source": [
    "image_recorder.autosave = False"
   ]
  },
  {
   "cell_type": "code",
   "execution_count": null,
   "metadata": {},
   "outputs": [],
   "source": [
    "image_recorder.download()"
   ]
  },
  {
   "cell_type": "code",
   "execution_count": null,
   "metadata": {},
   "outputs": [],
   "source": [
    "image_recorder.image.height"
   ]
  },
  {
   "cell_type": "markdown",
   "metadata": {},
   "source": [
    "The data is PNG encoded (by default), so we show how to use PIL to read in the data"
   ]
  },
  {
   "cell_type": "code",
   "execution_count": null,
   "metadata": {},
   "outputs": [],
   "source": [
    "import PIL.Image\n",
    "import PIL.ImageFilter\n",
    "import io\n",
    "im = PIL.Image.open(io.BytesIO(image_recorder.image.value))"
   ]
  },
  {
   "cell_type": "markdown",
   "metadata": {},
   "source": [
    "PIL Images display by default as image in the notebook. Calling the filter methods returns a new image which gets displayed directly."
   ]
  },
  {
   "cell_type": "code",
   "execution_count": null,
   "metadata": {},
   "outputs": [],
   "source": [
    "im.filter(PIL.ImageFilter.BLUR)"
   ]
  },
  {
   "cell_type": "markdown",
   "metadata": {},
   "source": [
    "## Example with scikit image\n",
    "We first convert the png encoded data to raw pixel values (as a numpy array)."
   ]
  },
  {
   "cell_type": "code",
   "execution_count": null,
   "metadata": {
    "scrolled": true
   },
   "outputs": [],
   "source": [
    "import numpy as np\n",
    "im_array = np.array(im)\n",
    "im_array"
   ]
  },
  {
   "cell_type": "markdown",
   "metadata": {},
   "source": [
    "Now we can do easy manipulatios, such as reordering the channels (red, green, blue, alpha)"
   ]
  },
  {
   "cell_type": "code",
   "execution_count": null,
   "metadata": {},
   "outputs": [],
   "source": [
    "PIL.Image.fromarray(im_array[...,::-1])"
   ]
  },
  {
   "cell_type": "markdown",
   "metadata": {},
   "source": [
    "Or build a slightly more sophisticated example using scikit-image (run this notebook with a live kernel, such as mybinder for this to work)"
   ]
  },
  {
   "cell_type": "code",
   "execution_count": null,
   "metadata": {
    "scrolled": false
   },
   "outputs": [],
   "source": [
    "from skimage.filters import roberts, sobel, scharr, prewitt\n",
    "from skimage.color import rgb2gray\n",
    "from skimage.color.adapt_rgb import adapt_rgb, each_channel, hsv_value\n",
    "from skimage import filters\n",
    "\n",
    "\n",
    "image = widgets.Image()\n",
    "output = widgets.Output()\n",
    "filter_options = [('roberts', roberts), ('sobel', sobel), ('scharr', scharr), ('prewitt', prewitt)]\n",
    "filter_widget = widgets.ToggleButtons(options=filter_options)\n",
    "\n",
    "@output.capture()\n",
    "def update_image(change):\n",
    "    # turn into nparray\n",
    "    im_in = PIL.Image.open(io.BytesIO(image_recorder.image.value))\n",
    "    im_array = np.array(im_in)[...,:3] # no alpha\n",
    "    \n",
    "    # filter\n",
    "    filter_function = filter_widget.value\n",
    "    im_array_edges = adapt_rgb(each_channel)(filter_function)(im_array)\n",
    "    im_array_edges = ((1-im_array_edges) * 255).astype(np.uint8)\n",
    "    im_out = PIL.Image.fromarray(im_array_edges)\n",
    "    \n",
    "    # store in image widget\n",
    "    f = io.BytesIO()\n",
    "    im_out.save(f, format='png')\n",
    "    image.value = f.getvalue()\n",
    "\n",
    "image_recorder.image.observe(update_image, 'value')\n",
    "filter_widget.observe(update_image, 'value')\n",
    "widgets.VBox([filter_widget, video, widgets.HBox([image_recorder, image]), output])"
   ]
  },
  {
   "cell_type": "code",
   "execution_count": null,
   "metadata": {},
   "outputs": [],
   "source": []
  }
 ],
 "metadata": {
  "kernelspec": {
   "display_name": "Python 3 (ipykernel)",
   "language": "python",
   "name": "python3"
  },
  "language_info": {
   "codemirror_mode": {
    "name": "ipython",
    "version": 3
   },
   "file_extension": ".py",
   "mimetype": "text/x-python",
   "name": "python",
   "nbconvert_exporter": "python",
   "pygments_lexer": "ipython3",
   "version": "3.9.15"
  }
 },
 "nbformat": 4,
 "nbformat_minor": 2
}
